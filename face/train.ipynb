{
 "cells": [
  {
   "cell_type": "code",
   "execution_count": null,
   "id": "0f244754",
   "metadata": {
    "execution": {
     "iopub.execute_input": "2023-11-19T03:57:45.179178Z",
     "iopub.status.busy": "2023-11-19T03:57:45.178891Z",
     "iopub.status.idle": "2023-11-19T03:57:53.754792Z",
     "shell.execute_reply": "2023-11-19T03:57:53.753937Z"
    },
    "papermill": {
     "duration": 8.591266,
     "end_time": "2023-11-19T03:57:53.757431",
     "exception": false,
     "start_time": "2023-11-19T03:57:45.166165",
     "status": "completed"
    },
    "tags": []
   },
   "outputs": [],
   "source": [
    "import math\n",
    "import numpy as np\n",
    "import pandas as pd\n",
    "\n",
    "import cv2\n",
    "import scikitplot\n",
    "import seaborn as sns\n",
    "from matplotlib import pyplot\n",
    "\n",
    "from sklearn.model_selection import train_test_split\n",
    "from sklearn.preprocessing import LabelEncoder\n",
    "from sklearn.metrics import classification_report\n",
    "\n",
    "import tensorflow as tf\n",
    "from tensorflow.keras import optimizers\n",
    "from tensorflow.keras.models import Model\n",
    "from tensorflow.keras.layers import Flatten, Dense, Conv2D, GlobalAveragePooling2D\n",
    "from tensorflow.keras.layers import Dropout, BatchNormalization, Activation\n",
    "from tensorflow.keras.callbacks import Callback, EarlyStopping, ReduceLROnPlateau\n",
    "from tensorflow.keras.preprocessing.image import ImageDataGenerator\n",
    "\n",
    "from keras.utils import np_utils"
   ]
  },
  {
   "cell_type": "code",
   "execution_count": null,
   "id": "919e5f75",
   "metadata": {
    "execution": {
     "iopub.execute_input": "2023-11-19T03:57:53.784983Z",
     "iopub.status.busy": "2023-11-19T03:57:53.784365Z",
     "iopub.status.idle": "2023-11-19T03:57:59.153968Z",
     "shell.execute_reply": "2023-11-19T03:57:59.152464Z"
    },
    "papermill": {
     "duration": 5.38581,
     "end_time": "2023-11-19T03:57:59.156513",
     "exception": false,
     "start_time": "2023-11-19T03:57:53.770703",
     "status": "completed"
    },
    "tags": []
   },
   "outputs": [],
   "source": [
    "df = pd.read_csv('../input/facial-expression-recognitionferchallenge/fer2013/fer2013/fer2013.csv')\n",
    "print(df.shape)\n",
    "df.head()"
   ]
  },
  {
   "cell_type": "code",
   "execution_count": null,
   "id": "b7d10d54",
   "metadata": {
    "execution": {
     "iopub.execute_input": "2023-11-19T03:57:59.183723Z",
     "iopub.status.busy": "2023-11-19T03:57:59.183403Z",
     "iopub.status.idle": "2023-11-19T03:57:59.196282Z",
     "shell.execute_reply": "2023-11-19T03:57:59.195345Z"
    },
    "papermill": {
     "duration": 0.02811,
     "end_time": "2023-11-19T03:57:59.198436",
     "exception": false,
     "start_time": "2023-11-19T03:57:59.170326",
     "status": "completed"
    },
    "tags": []
   },
   "outputs": [],
   "source": [
    "df.emotion.unique()"
   ]
  },
  {
   "cell_type": "code",
   "execution_count": null,
   "id": "fcfe335b",
   "metadata": {
    "execution": {
     "iopub.execute_input": "2023-11-19T03:57:59.223840Z",
     "iopub.status.busy": "2023-11-19T03:57:59.223505Z",
     "iopub.status.idle": "2023-11-19T03:57:59.228261Z",
     "shell.execute_reply": "2023-11-19T03:57:59.227355Z"
    },
    "papermill": {
     "duration": 0.019764,
     "end_time": "2023-11-19T03:57:59.230392",
     "exception": false,
     "start_time": "2023-11-19T03:57:59.210628",
     "status": "completed"
    },
    "tags": []
   },
   "outputs": [],
   "source": [
    "emotion_label_to_text = {0:'anger', 1:'disgust', 2:'fear', 3:'happiness', 4: 'sadness', 5: 'surprise', 6: 'neutral'}"
   ]
  },
  {
   "cell_type": "code",
   "execution_count": null,
   "id": "cf1c2481",
   "metadata": {
    "execution": {
     "iopub.execute_input": "2023-11-19T03:57:59.255642Z",
     "iopub.status.busy": "2023-11-19T03:57:59.255329Z",
     "iopub.status.idle": "2023-11-19T03:57:59.264171Z",
     "shell.execute_reply": "2023-11-19T03:57:59.263204Z"
    },
    "papermill": {
     "duration": 0.023883,
     "end_time": "2023-11-19T03:57:59.266318",
     "exception": false,
     "start_time": "2023-11-19T03:57:59.242435",
     "status": "completed"
    },
    "tags": []
   },
   "outputs": [],
   "source": [
    "df.emotion.value_counts()"
   ]
  },
  {
   "cell_type": "code",
   "execution_count": null,
   "id": "a3c6121f",
   "metadata": {
    "execution": {
     "iopub.execute_input": "2023-11-19T03:57:59.293355Z",
     "iopub.status.busy": "2023-11-19T03:57:59.293000Z",
     "iopub.status.idle": "2023-11-19T03:57:59.299697Z",
     "shell.execute_reply": "2023-11-19T03:57:59.298808Z"
    },
    "papermill": {
     "duration": 0.022559,
     "end_time": "2023-11-19T03:57:59.301856",
     "exception": false,
     "start_time": "2023-11-19T03:57:59.279297",
     "status": "completed"
    },
    "tags": []
   },
   "outputs": [],
   "source": [
    "math.sqrt(len(df.pixels[0].split(' ')))"
   ]
  },
  {
   "cell_type": "code",
   "execution_count": null,
   "id": "ba418563",
   "metadata": {
    "execution": {
     "iopub.execute_input": "2023-11-19T03:57:59.328930Z",
     "iopub.status.busy": "2023-11-19T03:57:59.328600Z",
     "iopub.status.idle": "2023-11-19T03:58:07.866639Z",
     "shell.execute_reply": "2023-11-19T03:58:07.865636Z"
    },
    "papermill": {
     "duration": 8.558819,
     "end_time": "2023-11-19T03:58:07.873818",
     "exception": false,
     "start_time": "2023-11-19T03:57:59.314999",
     "status": "completed"
    },
    "tags": []
   },
   "outputs": [],
   "source": [
    "fig = pyplot.figure(1, (14, 14))\n",
    "\n",
    "k = 0\n",
    "for label in sorted(df.emotion.unique()):\n",
    "    for j in range(7):\n",
    "        px = df[df.emotion==label].pixels.iloc[k]\n",
    "        px = np.array(px.split(' ')).reshape(48, 48).astype('float32')\n",
    "\n",
    "        k += 1\n",
    "        ax = pyplot.subplot(7, 7, k)\n",
    "        ax.imshow(px, cmap = 'gray')\n",
    "        ax.set_xticks([])\n",
    "        ax.set_yticks([])\n",
    "        ax.set_title(emotion_label_to_text[label])\n",
    "        pyplot.tight_layout()"
   ]
  },
  {
   "cell_type": "code",
   "execution_count": null,
   "id": "6ed631a7",
   "metadata": {
    "execution": {
     "iopub.execute_input": "2023-11-19T03:58:07.944370Z",
     "iopub.status.busy": "2023-11-19T03:58:07.943718Z",
     "iopub.status.idle": "2023-11-19T03:59:22.023815Z",
     "shell.execute_reply": "2023-11-19T03:59:22.022960Z"
    },
    "papermill": {
     "duration": 74.100923,
     "end_time": "2023-11-19T03:59:22.026353",
     "exception": false,
     "start_time": "2023-11-19T03:58:07.925430",
     "status": "completed"
    },
    "tags": []
   },
   "outputs": [],
   "source": [
    "img_array = df.pixels.apply(lambda x: np.array(x.split(' ')).reshape(48, 48).astype('float32'))\n",
    "img_array = np.stack(img_array, axis = 0)"
   ]
  },
  {
   "cell_type": "code",
   "execution_count": null,
   "id": "71ac6c3a",
   "metadata": {
    "execution": {
     "iopub.execute_input": "2023-11-19T03:59:22.062762Z",
     "iopub.status.busy": "2023-11-19T03:59:22.062420Z",
     "iopub.status.idle": "2023-11-19T03:59:22.068957Z",
     "shell.execute_reply": "2023-11-19T03:59:22.067809Z"
    },
    "papermill": {
     "duration": 0.026945,
     "end_time": "2023-11-19T03:59:22.071161",
     "exception": false,
     "start_time": "2023-11-19T03:59:22.044216",
     "status": "completed"
    },
    "tags": []
   },
   "outputs": [],
   "source": [
    "img_array.shape"
   ]
  },
  {
   "cell_type": "code",
   "execution_count": null,
   "id": "b730a866",
   "metadata": {
    "execution": {
     "iopub.execute_input": "2023-11-19T03:59:22.106899Z",
     "iopub.status.busy": "2023-11-19T03:59:22.106578Z",
     "iopub.status.idle": "2023-11-19T03:59:23.046745Z",
     "shell.execute_reply": "2023-11-19T03:59:23.045611Z"
    },
    "papermill": {
     "duration": 0.960441,
     "end_time": "2023-11-19T03:59:23.049041",
     "exception": false,
     "start_time": "2023-11-19T03:59:22.088600",
     "status": "completed"
    },
    "tags": []
   },
   "outputs": [],
   "source": [
    "img_features = []\n",
    "\n",
    "for i in range(len(img_array)):\n",
    "    temp = cv2.cvtColor(img_array[i], cv2.COLOR_GRAY2RGB)\n",
    "    img_features.append(temp)\n",
    "\n",
    "img_features = np.array(img_features)\n",
    "print(img_features.shape)"
   ]
  },
  {
   "cell_type": "code",
   "execution_count": null,
   "id": "09aa3917",
   "metadata": {
    "execution": {
     "iopub.execute_input": "2023-11-19T03:59:23.085925Z",
     "iopub.status.busy": "2023-11-19T03:59:23.085586Z",
     "iopub.status.idle": "2023-11-19T03:59:23.237021Z",
     "shell.execute_reply": "2023-11-19T03:59:23.235968Z"
    },
    "papermill": {
     "duration": 0.172424,
     "end_time": "2023-11-19T03:59:23.239419",
     "exception": false,
     "start_time": "2023-11-19T03:59:23.066995",
     "status": "completed"
    },
    "tags": []
   },
   "outputs": [],
   "source": [
    "pyplot.imshow(img_features[0].astype(np.uint8));"
   ]
  },
  {
   "cell_type": "code",
   "execution_count": null,
   "id": "99a796a0",
   "metadata": {
    "execution": {
     "iopub.execute_input": "2023-11-19T03:59:23.276433Z",
     "iopub.status.busy": "2023-11-19T03:59:23.275678Z",
     "iopub.status.idle": "2023-11-19T03:59:23.285609Z",
     "shell.execute_reply": "2023-11-19T03:59:23.284680Z"
    },
    "papermill": {
     "duration": 0.030248,
     "end_time": "2023-11-19T03:59:23.287616",
     "exception": false,
     "start_time": "2023-11-19T03:59:23.257368",
     "status": "completed"
    },
    "tags": []
   },
   "outputs": [],
   "source": [
    "le = LabelEncoder()\n",
    "\n",
    "img_labels = le.fit_transform(df.emotion)\n",
    "img_labels = np_utils.to_categorical(img_labels)\n",
    "img_labels.shape"
   ]
  },
  {
   "cell_type": "code",
   "execution_count": null,
   "id": "09a784bf",
   "metadata": {
    "execution": {
     "iopub.execute_input": "2023-11-19T03:59:23.323622Z",
     "iopub.status.busy": "2023-11-19T03:59:23.323337Z",
     "iopub.status.idle": "2023-11-19T03:59:23.328553Z",
     "shell.execute_reply": "2023-11-19T03:59:23.327615Z"
    },
    "papermill": {
     "duration": 0.026371,
     "end_time": "2023-11-19T03:59:23.331199",
     "exception": false,
     "start_time": "2023-11-19T03:59:23.304828",
     "status": "completed"
    },
    "tags": []
   },
   "outputs": [],
   "source": [
    "le_name_mapping = dict(zip(le.classes_, le.transform(le.classes_)))\n",
    "print(le_name_mapping)"
   ]
  },
  {
   "cell_type": "code",
   "execution_count": null,
   "id": "58d529a5",
   "metadata": {
    "execution": {
     "iopub.execute_input": "2023-11-19T03:59:23.401848Z",
     "iopub.status.busy": "2023-11-19T03:59:23.401525Z",
     "iopub.status.idle": "2023-11-19T03:59:24.099904Z",
     "shell.execute_reply": "2023-11-19T03:59:24.098771Z"
    },
    "papermill": {
     "duration": 0.719168,
     "end_time": "2023-11-19T03:59:24.102279",
     "exception": false,
     "start_time": "2023-11-19T03:59:23.383111",
     "status": "completed"
    },
    "tags": []
   },
   "outputs": [],
   "source": [
    "X_train, X_valid, y_train, y_valid = train_test_split(img_features, \n",
    "                                                      img_labels, \n",
    "                                                      shuffle = True, \n",
    "                                                      stratify = img_labels, \n",
    "                                                      test_size = 0.1, \n",
    "                                                      random_state = 42)\n",
    "X_train.shape, X_valid.shape, y_train.shape, y_valid.shape"
   ]
  },
  {
   "cell_type": "code",
   "execution_count": null,
   "id": "94234915",
   "metadata": {
    "execution": {
     "iopub.execute_input": "2023-11-19T03:59:24.141200Z",
     "iopub.status.busy": "2023-11-19T03:59:24.140897Z",
     "iopub.status.idle": "2023-11-19T03:59:24.147636Z",
     "shell.execute_reply": "2023-11-19T03:59:24.146770Z"
    },
    "papermill": {
     "duration": 0.028515,
     "end_time": "2023-11-19T03:59:24.149891",
     "exception": false,
     "start_time": "2023-11-19T03:59:24.121376",
     "status": "completed"
    },
    "tags": []
   },
   "outputs": [],
   "source": [
    "del df\n",
    "del img_features\n",
    "del img_labels"
   ]
  },
  {
   "cell_type": "code",
   "execution_count": null,
   "id": "028e46dd",
   "metadata": {
    "execution": {
     "iopub.execute_input": "2023-11-19T03:59:24.187689Z",
     "iopub.status.busy": "2023-11-19T03:59:24.187120Z",
     "iopub.status.idle": "2023-11-19T03:59:24.192039Z",
     "shell.execute_reply": "2023-11-19T03:59:24.191156Z"
    },
    "papermill": {
     "duration": 0.026073,
     "end_time": "2023-11-19T03:59:24.194205",
     "exception": false,
     "start_time": "2023-11-19T03:59:24.168132",
     "status": "completed"
    },
    "tags": []
   },
   "outputs": [],
   "source": [
    "img_width = X_train.shape[1]\n",
    "img_height = X_train.shape[2]\n",
    "img_depth = X_train.shape[3]\n",
    "num_classes = y_train.shape[1]"
   ]
  },
  {
   "cell_type": "code",
   "execution_count": null,
   "id": "e0983d57",
   "metadata": {
    "execution": {
     "iopub.execute_input": "2023-11-19T03:59:24.265316Z",
     "iopub.status.busy": "2023-11-19T03:59:24.264697Z",
     "iopub.status.idle": "2023-11-19T03:59:24.545951Z",
     "shell.execute_reply": "2023-11-19T03:59:24.544801Z"
    },
    "papermill": {
     "duration": 0.302334,
     "end_time": "2023-11-19T03:59:24.548615",
     "exception": false,
     "start_time": "2023-11-19T03:59:24.246281",
     "status": "completed"
    },
    "tags": []
   },
   "outputs": [],
   "source": [
    "X_train = X_train / 255.\n",
    "X_valid = X_valid / 255."
   ]
  },
  {
   "cell_type": "code",
   "execution_count": null,
   "id": "3baf804d",
   "metadata": {
    "execution": {
     "iopub.execute_input": "2023-11-19T03:59:24.585381Z",
     "iopub.status.busy": "2023-11-19T03:59:24.585054Z",
     "iopub.status.idle": "2023-11-19T03:59:28.432630Z",
     "shell.execute_reply": "2023-11-19T03:59:28.430997Z"
    },
    "papermill": {
     "duration": 3.869162,
     "end_time": "2023-11-19T03:59:28.435591",
     "exception": false,
     "start_time": "2023-11-19T03:59:24.566429",
     "status": "completed"
    },
    "tags": []
   },
   "outputs": [],
   "source": [
    "vgg = tf.keras.applications.VGG16(weights = 'imagenet',\n",
    "                                  include_top = False,\n",
    "                                  input_shape = (48, 48, 3))"
   ]
  },
  {
   "cell_type": "code",
   "execution_count": null,
   "id": "03b606da",
   "metadata": {
    "execution": {
     "iopub.execute_input": "2023-11-19T03:59:28.562141Z",
     "iopub.status.busy": "2023-11-19T03:59:28.561754Z",
     "iopub.status.idle": "2023-11-19T03:59:28.612104Z",
     "shell.execute_reply": "2023-11-19T03:59:28.610031Z"
    },
    "papermill": {
     "duration": 0.092001,
     "end_time": "2023-11-19T03:59:28.633424",
     "exception": false,
     "start_time": "2023-11-19T03:59:28.541423",
     "status": "completed"
    },
    "tags": []
   },
   "outputs": [],
   "source": [
    "vgg.summary()"
   ]
  },
  {
   "cell_type": "code",
   "execution_count": null,
   "id": "d35c5126",
   "metadata": {
    "execution": {
     "iopub.execute_input": "2023-11-19T03:59:28.680957Z",
     "iopub.status.busy": "2023-11-19T03:59:28.680585Z",
     "iopub.status.idle": "2023-11-19T03:59:28.686369Z",
     "shell.execute_reply": "2023-11-19T03:59:28.685541Z"
    },
    "papermill": {
     "duration": 0.032009,
     "end_time": "2023-11-19T03:59:28.688464",
     "exception": false,
     "start_time": "2023-11-19T03:59:28.656455",
     "status": "completed"
    },
    "tags": []
   },
   "outputs": [],
   "source": [
    "def build_model(bottom_model, classes):\n",
    "    model = bottom_model.layers[-2].output\n",
    "    model = GlobalAveragePooling2D()(model)\n",
    "    model = Dense(classes, activation = 'softmax', name = 'out_layer')(model)\n",
    "    \n",
    "    return model"
   ]
  },
  {
   "cell_type": "code",
   "execution_count": null,
   "id": "e1e6aab7",
   "metadata": {
    "execution": {
     "iopub.execute_input": "2023-11-19T03:59:28.732733Z",
     "iopub.status.busy": "2023-11-19T03:59:28.732465Z",
     "iopub.status.idle": "2023-11-19T03:59:28.804419Z",
     "shell.execute_reply": "2023-11-19T03:59:28.803277Z"
    },
    "papermill": {
     "duration": 0.110126,
     "end_time": "2023-11-19T03:59:28.820117",
     "exception": false,
     "start_time": "2023-11-19T03:59:28.709991",
     "status": "completed"
    },
    "tags": []
   },
   "outputs": [],
   "source": [
    "head = build_model(vgg, num_classes)\n",
    "\n",
    "model = Model(inputs = vgg.input, outputs = head)\n",
    "\n",
    "print(model.summary())"
   ]
  },
  {
   "cell_type": "code",
   "execution_count": null,
   "id": "927d6fa6",
   "metadata": {
    "execution": {
     "iopub.execute_input": "2023-11-19T03:59:28.923598Z",
     "iopub.status.busy": "2023-11-19T03:59:28.923288Z",
     "iopub.status.idle": "2023-11-19T03:59:28.929596Z",
     "shell.execute_reply": "2023-11-19T03:59:28.928404Z"
    },
    "papermill": {
     "duration": 0.034846,
     "end_time": "2023-11-19T03:59:28.931612",
     "exception": false,
     "start_time": "2023-11-19T03:59:28.896766",
     "status": "completed"
    },
    "tags": []
   },
   "outputs": [],
   "source": [
    "early_stopping = EarlyStopping(monitor = 'val_accuracy', \n",
    "                               min_delta = 0.00005, \n",
    "                               patience = 11,\n",
    "                               verbose = 1, \n",
    "                               restore_best_weights = True,)\n",
    "\n",
    "lr_scheduler = ReduceLROnPlateau(monitor = 'val_accuracy', \n",
    "                                 factor = 0.5, \n",
    "                                 patience = 7,\n",
    "                                 min_lr = 1e-7,\n",
    "                                 verbose = 1,)\n",
    "\n",
    "callbacks = [early_stopping,lr_scheduler,]"
   ]
  },
  {
   "cell_type": "code",
   "execution_count": null,
   "id": "ea8ea9ce",
   "metadata": {
    "execution": {
     "iopub.execute_input": "2023-11-19T03:59:29.036713Z",
     "iopub.status.busy": "2023-11-19T03:59:29.035901Z",
     "iopub.status.idle": "2023-11-19T03:59:29.358131Z",
     "shell.execute_reply": "2023-11-19T03:59:29.357066Z"
    },
    "papermill": {
     "duration": 0.351305,
     "end_time": "2023-11-19T03:59:29.360790",
     "exception": false,
     "start_time": "2023-11-19T03:59:29.009485",
     "status": "completed"
    },
    "tags": []
   },
   "outputs": [],
   "source": [
    "train_datagen = ImageDataGenerator(rotation_range = 15,\n",
    "                                   width_shift_range = 0.15,\n",
    "                                   height_shift_range = 0.15,\n",
    "                                   shear_range = 0.15,\n",
    "                                   zoom_range = 0.15,\n",
    "                                   horizontal_flip = True,)\n",
    "train_datagen.fit(X_train)"
   ]
  },
  {
   "cell_type": "code",
   "execution_count": null,
   "id": "f0bc4991",
   "metadata": {
    "execution": {
     "iopub.execute_input": "2023-11-19T03:59:29.414539Z",
     "iopub.status.busy": "2023-11-19T03:59:29.414196Z",
     "iopub.status.idle": "2023-11-19T03:59:29.429997Z",
     "shell.execute_reply": "2023-11-19T03:59:29.429213Z"
    },
    "papermill": {
     "duration": 0.044579,
     "end_time": "2023-11-19T03:59:29.432070",
     "exception": false,
     "start_time": "2023-11-19T03:59:29.387491",
     "status": "completed"
    },
    "tags": []
   },
   "outputs": [],
   "source": [
    "# batch size of 32 performs the best.\n",
    "batch_size = 32 \n",
    "epochs = 100\n",
    "optims = [optimizers.Adam(learning_rate = 0.0001, beta_1 = 0.9, beta_2 = 0.999),]\n",
    "\n",
    "model.compile(loss = 'categorical_crossentropy',\n",
    "              optimizer = optims[0],\n",
    "              metrics = ['accuracy'])"
   ]
  },
  {
   "cell_type": "code",
   "execution_count": null,
   "id": "4078c657",
   "metadata": {
    "execution": {
     "iopub.execute_input": "2023-11-19T03:59:29.486389Z",
     "iopub.status.busy": "2023-11-19T03:59:29.486087Z",
     "iopub.status.idle": "2023-11-19T04:32:44.706393Z",
     "shell.execute_reply": "2023-11-19T04:32:44.704897Z"
    },
    "papermill": {
     "duration": 1995.249844,
     "end_time": "2023-11-19T04:32:44.708761",
     "exception": false,
     "start_time": "2023-11-19T03:59:29.458917",
     "status": "completed"
    },
    "tags": []
   },
   "outputs": [],
   "source": [
    "history = model.fit(train_datagen.flow(X_train, \n",
    "                                       y_train, \n",
    "                                       batch_size = batch_size),\n",
    "                                       validation_data = (X_valid, y_valid),\n",
    "                                       steps_per_epoch = len(X_train) / batch_size,\n",
    "                                       epochs = epochs,\n",
    "                                       callbacks = callbacks,\n",
    "                                       use_multiprocessing = True)"
   ]
  },
  {
   "cell_type": "code",
   "execution_count": null,
   "id": "358cdcd8",
   "metadata": {
    "execution": {
     "iopub.execute_input": "2023-11-19T04:32:48.405129Z",
     "iopub.status.busy": "2023-11-19T04:32:48.404652Z",
     "iopub.status.idle": "2023-11-19T04:32:48.821129Z",
     "shell.execute_reply": "2023-11-19T04:32:48.820097Z"
    },
    "papermill": {
     "duration": 2.273503,
     "end_time": "2023-11-19T04:32:48.823676",
     "exception": false,
     "start_time": "2023-11-19T04:32:46.550173",
     "status": "completed"
    },
    "tags": []
   },
   "outputs": [],
   "source": [
    "model_yaml = model.to_json()\n",
    "with open(\"model.yaml\", \"w\") as yaml_file:\n",
    "    yaml_file.write(model_yaml)\n",
    "    \n",
    "model.save(\"model.h5\")"
   ]
  },
  {
   "cell_type": "code",
   "execution_count": null,
   "id": "f8c5007c",
   "metadata": {
    "execution": {
     "iopub.execute_input": "2023-11-19T04:32:52.603597Z",
     "iopub.status.busy": "2023-11-19T04:32:52.603217Z",
     "iopub.status.idle": "2023-11-19T04:32:53.608947Z",
     "shell.execute_reply": "2023-11-19T04:32:53.607931Z"
    },
    "papermill": {
     "duration": 2.914513,
     "end_time": "2023-11-19T04:32:53.611275",
     "exception": false,
     "start_time": "2023-11-19T04:32:50.696762",
     "status": "completed"
    },
    "tags": []
   },
   "outputs": [],
   "source": [
    "sns.set()\n",
    "fig = pyplot.figure(0, (12, 4))\n",
    "\n",
    "ax = pyplot.subplot(1, 2, 1)\n",
    "sns.lineplot(x=history.epoch, y=history.history['accuracy'], label='train')\n",
    "sns.lineplot(x=history.epoch, y=history.history['val_accuracy'], label='valid')\n",
    "pyplot.title('Accuracy')\n",
    "pyplot.tight_layout()\n",
    "\n",
    "ax = pyplot.subplot(1, 2, 2)\n",
    "sns.lineplot(x=history.epoch, y=history.history['loss'], label='train')\n",
    "sns.lineplot(x=history.epoch, y=history.history['val_loss'], label='valid')\n",
    "pyplot.title('Loss')\n",
    "pyplot.tight_layout()\n",
    "\n",
    "pyplot.savefig('epoch_history_dcnn.png')\n",
    "pyplot.show()\n"
   ]
  },
  {
   "cell_type": "code",
   "execution_count": null,
   "id": "c8b63083",
   "metadata": {
    "execution": {
     "iopub.execute_input": "2023-11-19T04:32:57.330794Z",
     "iopub.status.busy": "2023-11-19T04:32:57.330016Z",
     "iopub.status.idle": "2023-11-19T04:32:58.011640Z",
     "shell.execute_reply": "2023-11-19T04:32:58.010702Z"
    },
    "papermill": {
     "duration": 2.516329,
     "end_time": "2023-11-19T04:32:58.014256",
     "exception": false,
     "start_time": "2023-11-19T04:32:55.497927",
     "status": "completed"
    },
    "tags": []
   },
   "outputs": [],
   "source": [
    "df_accu = pd.DataFrame({'train': history.history['accuracy'], 'valid': history.history['val_accuracy']})\n",
    "df_loss = pd.DataFrame({'train': history.history['loss'], 'valid': history.history['val_loss']})\n",
    "\n",
    "fig = pyplot.figure(0, (14, 4))\n",
    "ax = pyplot.subplot(1, 2, 1)\n",
    "sns.violinplot(x=\"variable\", y=\"value\", data=pd.melt(df_accu), showfliers=False)\n",
    "pyplot.title('Accuracy')\n",
    "pyplot.tight_layout()\n",
    "\n",
    "ax = pyplot.subplot(1, 2, 2)\n",
    "sns.violinplot(x=\"variable\", y=\"value\", data=pd.melt(df_loss), showfliers=False)\n",
    "pyplot.title('Loss')\n",
    "pyplot.tight_layout()\n",
    "\n",
    "pyplot.savefig('performance_dist.png')\n",
    "pyplot.show()"
   ]
  },
  {
   "cell_type": "code",
   "execution_count": null,
   "id": "46206ed8",
   "metadata": {
    "execution": {
     "iopub.execute_input": "2023-11-19T04:33:01.788606Z",
     "iopub.status.busy": "2023-11-19T04:33:01.788211Z",
     "iopub.status.idle": "2023-11-19T04:33:04.855069Z",
     "shell.execute_reply": "2023-11-19T04:33:04.854112Z"
    },
    "papermill": {
     "duration": 4.987755,
     "end_time": "2023-11-19T04:33:04.857680",
     "exception": false,
     "start_time": "2023-11-19T04:32:59.869925",
     "status": "completed"
    },
    "tags": []
   },
   "outputs": [],
   "source": [
    "yhat_valid = np.argmax(model.predict(X_valid), axis=1)\n",
    "scikitplot.metrics.plot_confusion_matrix(np.argmax(y_valid, axis=1), yhat_valid, figsize=(7,7))\n",
    "pyplot.savefig(\"confusion_matrix_dcnn.png\")\n",
    "\n",
    "print(f'total wrong validation predictions: {np.sum(np.argmax(y_valid, axis=1) != yhat_valid)}\\n\\n')\n",
    "print(classification_report(np.argmax(y_valid, axis=1), yhat_valid))"
   ]
  },
  {
   "cell_type": "code",
   "execution_count": null,
   "id": "7f44eeaa",
   "metadata": {
    "execution": {
     "iopub.execute_input": "2023-11-19T04:33:12.408130Z",
     "iopub.status.busy": "2023-11-19T04:33:12.407351Z",
     "iopub.status.idle": "2023-11-19T04:33:12.412764Z",
     "shell.execute_reply": "2023-11-19T04:33:12.411730Z"
    },
    "papermill": {
     "duration": 1.8909,
     "end_time": "2023-11-19T04:33:12.414800",
     "exception": false,
     "start_time": "2023-11-19T04:33:10.523900",
     "status": "completed"
    },
    "tags": []
   },
   "outputs": [],
   "source": [
    "mapper = {\n",
    "    0: 'anger',\n",
    "    1: 'disgust',\n",
    "    2: 'fear',\n",
    "    3: 'happiness',\n",
    "    4: 'sadness',\n",
    "    5: 'surprise',\n",
    "    6: 'neutral'\n",
    "}"
   ]
  },
  {
   "cell_type": "code",
   "execution_count": null,
   "id": "686078ce",
   "metadata": {
    "execution": {
     "iopub.execute_input": "2023-11-19T04:33:16.122940Z",
     "iopub.status.busy": "2023-11-19T04:33:16.122532Z",
     "iopub.status.idle": "2023-11-19T04:33:18.964198Z",
     "shell.execute_reply": "2023-11-19T04:33:18.962878Z"
    },
    "papermill": {
     "duration": 4.689341,
     "end_time": "2023-11-19T04:33:18.967214",
     "exception": false,
     "start_time": "2023-11-19T04:33:14.277873",
     "status": "completed"
    },
    "tags": []
   },
   "outputs": [],
   "source": [
    "np.random.seed(2)\n",
    "random_sad_imgs = np.random.choice(np.where(y_valid[:, 1]==1)[0], size=9)\n",
    "random_neutral_imgs = np.random.choice(np.where(y_valid[:, 2]==1)[0], size=9)\n",
    "\n",
    "fig = pyplot.figure(1, (18, 4))\n",
    "\n",
    "for i, (sadidx, neuidx) in enumerate(zip(random_sad_imgs, random_neutral_imgs)):\n",
    "    ax = pyplot.subplot(2, 9, i+1)\n",
    "    sample_img = X_valid[sadidx,:,:,0]\n",
    "    ax.imshow(sample_img, cmap='gray')\n",
    "    ax.set_xticks([])\n",
    "    ax.set_yticks([])\n",
    "    sample_img = cv2.cvtColor(sample_img, cv2.COLOR_GRAY2RGB)\n",
    "\n",
    "    ax.set_title(f\"true:sad, pred:{mapper[np.argmax(model.predict(sample_img.reshape(1,48,48,3))[0])]}\")\n",
    "\n",
    "    ax = pyplot.subplot(2, 9, i+10)\n",
    "    sample_img = X_valid[neuidx,:,:,0]\n",
    "    ax.imshow(sample_img, cmap='gray')\n",
    "    ax.set_xticks([])\n",
    "    ax.set_yticks([])\n",
    "    sample_img = cv2.cvtColor(sample_img, cv2.COLOR_GRAY2RGB)\n",
    "\n",
    "    ax.set_title(f\"t:neut, p:{mapper[np.argmax(model.predict(sample_img.reshape(1,48,48,3))[0])]}\")\n",
    "\n",
    "    pyplot.tight_layout()"
   ]
  }
 ],
 "metadata": {
  "kaggle": {
   "accelerator": "nvidiaTeslaT4",
   "dataSources": [
    {
     "datasetId": 64677,
     "sourceId": 127160,
     "sourceType": "datasetVersion"
    }
   ],
   "dockerImageVersionId": 30397,
   "isGpuEnabled": true,
   "isInternetEnabled": true,
   "language": "python",
   "sourceType": "notebook"
  },
  "kernelspec": {
   "display_name": "Python 3",
   "language": "python",
   "name": "python3"
  },
  "language_info": {
   "codemirror_mode": {
    "name": "ipython",
    "version": 3
   },
   "file_extension": ".py",
   "mimetype": "text/x-python",
   "name": "python",
   "nbconvert_exporter": "python",
   "pygments_lexer": "ipython3",
   "version": "3.7.12"
  },
  "papermill": {
   "default_parameters": {},
   "duration": 2152.152874,
   "end_time": "2023-11-19T04:33:27.532031",
   "environment_variables": {},
   "exception": null,
   "input_path": "__notebook__.ipynb",
   "output_path": "__notebook__.ipynb",
   "parameters": {},
   "start_time": "2023-11-19T03:57:35.379157",
   "version": "2.3.4"
  }
 },
 "nbformat": 4,
 "nbformat_minor": 5
}
