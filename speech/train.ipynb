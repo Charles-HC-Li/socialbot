{
 "cells": [
  {
   "cell_type": "code",
   "execution_count": null,
   "id": "2be44998",
   "metadata": {
    "execution": {
     "iopub.execute_input": "2023-12-02T00:34:02.719921Z",
     "iopub.status.busy": "2023-12-02T00:34:02.719521Z",
     "iopub.status.idle": "2023-12-02T00:34:15.316170Z",
     "shell.execute_reply": "2023-12-02T00:34:15.315305Z"
    },
    "papermill": {
     "duration": 12.612656,
     "end_time": "2023-12-02T00:34:15.318565",
     "exception": false,
     "start_time": "2023-12-02T00:34:02.705909",
     "status": "completed"
    },
    "tags": []
   },
   "outputs": [],
   "source": [
    "import numpy as np \n",
    "import pandas as pd \n",
    "\n",
    "import random\n",
    "import os\n",
    "from tqdm import tqdm\n",
    "\n",
    "import matplotlib.pylab as plt\n",
    "import seaborn as sns\n",
    "\n",
    "from glob import glob\n",
    "\n",
    "import librosa\n",
    "import librosa.display\n",
    "import librosa.effects as le\n",
    "import IPython.display as ipd\n",
    "\n",
    "from tensorflow.image import resize\n",
    "\n",
    "import tensorflow as tf\n",
    "from tensorflow.keras.layers import Input, Conv2D, MaxPooling2D, Flatten, Dense\n",
    "from tensorflow.keras.models import Model\n",
    "from tensorflow.keras.optimizers import Adam\n",
    "from sklearn.model_selection import train_test_split\n",
    "from tensorflow.keras.utils import to_categorical\n",
    "from tensorflow.image import resize\n",
    "from tensorflow.keras.models import load_model\n",
    "from sklearn.utils import shuffle\n",
    "from tensorflow import keras\n",
    "from tensorflow.keras import layers\n",
    "\n",
    "from itertools import cycle\n",
    "\n",
    "import joblib\n",
    "\n",
    "sns.set_theme(style=\"white\", palette=None)\n",
    "color_pal = plt.rcParams[\"axes.prop_cycle\"].by_key()[\"color\"]\n",
    "color_cycle = cycle(plt.rcParams[\"axes.prop_cycle\"].by_key()[\"color\"])"
   ]
  },
  {
   "cell_type": "code",
   "execution_count": null,
   "id": "dfabdc8e",
   "metadata": {
    "execution": {
     "iopub.execute_input": "2023-12-02T00:34:28.773342Z",
     "iopub.status.busy": "2023-12-02T00:34:28.772986Z",
     "iopub.status.idle": "2023-12-02T00:34:28.832244Z",
     "shell.execute_reply": "2023-12-02T00:34:28.831529Z"
    },
    "papermill": {
     "duration": 0.075421,
     "end_time": "2023-12-02T00:34:28.834125",
     "exception": false,
     "start_time": "2023-12-02T00:34:28.758704",
     "status": "completed"
    },
    "tags": []
   },
   "outputs": [],
   "source": [
    "angry = glob(r'input/audio-emotions/Emotions/Angry/*.wav')\n",
    "angry = sorted(angry)\n",
    "Disgusted = glob(r'input/audio-emotions/Emotions/Disgusted/*.wav')\n",
    "Disgusted = sorted(Disgusted)\n",
    "Fearful = glob(r'input/audio-emotions/Emotions/Fearful/*.wav')\n",
    "Fearful = sorted(Fearful)\n",
    "Happy = glob(r'input/audio-emotions/Emotions/Happy/*.wav')\n",
    "Happy = sorted(Happy)\n",
    "Neutral = glob(r'input/audio-emotions/Emotions/Neutral/*.wav')\n",
    "Neutral = sorted(Neutral)\n",
    "Sad = glob(r'input/audio-emotions/Emotions/Sad/*.wav')\n",
    "Sad = sorted(Sad)\n",
    "Suprised = glob(r'input/audio-emotions/Emotions/Suprised/*.wav')\n",
    "Suprised = sorted(Suprised)"
   ]
  },
  {
   "cell_type": "code",
   "execution_count": null,
   "id": "416aa6b4",
   "metadata": {
    "execution": {
     "iopub.execute_input": "2023-12-02T00:34:28.889196Z",
     "iopub.status.busy": "2023-12-02T00:34:28.888879Z",
     "iopub.status.idle": "2023-12-02T01:00:52.236128Z",
     "shell.execute_reply": "2023-12-02T01:00:52.224778Z"
    },
    "papermill": {
     "duration": 1583.36563,
     "end_time": "2023-12-02T01:00:52.240119",
     "exception": false,
     "start_time": "2023-12-02T00:34:28.874489",
     "status": "completed"
    },
    "tags": []
   },
   "outputs": [],
   "source": [
    "##### angry testing \n",
    "angry_train=[]\n",
    "label_angry=[]\n",
    "target_shape=(128,128)\n",
    "with tqdm(total=len(angry)) as pbar:\n",
    "    for i in range (len(angry)):\n",
    "        y, sr =librosa.load(angry[i], sr=None)\n",
    "        y_stretched = le.time_stretch(y, rate=1)\n",
    "        Mel_spectrogram = librosa.feature.melspectrogram(y=y_stretched , sr=sr)\n",
    "        Mel_spectrogram = resize(np.expand_dims(Mel_spectrogram,axis=-1),target_shape)\n",
    "        angry_train.append(Mel_spectrogram)\n",
    "        label_angry.append(0)\n",
    "        pbar.update(1)\n",
    "print(\"heeey\")\n",
    "\n",
    "##### Disgusted testing \n",
    "Disgusted_train=[]\n",
    "label_Disgusted=[]\n",
    "target_shape=(128,128)\n",
    "with tqdm(total=len(Disgusted)) as pbar:\n",
    "    for i in range (len(Disgusted)):\n",
    "        y, sr =librosa.load(Disgusted[i], sr=None)\n",
    "        y_stretched = le.time_stretch(y, rate=1)\n",
    "        Mel_spectrogram = librosa.feature.melspectrogram(y=y_stretched , sr=sr)\n",
    "        Mel_spectrogram = resize(np.expand_dims(Mel_spectrogram,axis=-1),target_shape)\n",
    "        Disgusted_train.append(Mel_spectrogram)\n",
    "        label_Disgusted.append(1)\n",
    "        pbar.update(1)\n",
    "print(\"heeeey2\")\n",
    "\n",
    "##### Fearful testing \n",
    "Fearful_train=[]\n",
    "label_Fearful=[]\n",
    "target_shape=(128,128)\n",
    "with tqdm(total=len(Fearful)) as pbar:\n",
    "    for i in range (len(Fearful)):\n",
    "        y, sr =librosa.load(Fearful[i], sr=None)\n",
    "        y_stretched = le.time_stretch(y, rate=1)\n",
    "        Mel_spectrogram = librosa.feature.melspectrogram(y=y_stretched , sr=sr)\n",
    "        Mel_spectrogram = resize(np.expand_dims(Mel_spectrogram,axis=-1),target_shape)\n",
    "        Fearful_train.append(Mel_spectrogram)\n",
    "        label_Fearful.append(2)\n",
    "\n",
    "        pbar.update(1)\n",
    "print(\"heeeey3\")\n",
    "\n",
    "##### happy testing \n",
    "Happy_train=[]\n",
    "label_happy=[]\n",
    "target_shape=(128,128)\n",
    "with tqdm(total=len(Happy)) as pbar:\n",
    "    for i in range (len(Happy)):\n",
    "        y, sr =librosa.load(Happy[i], sr=None)\n",
    "        y_stretched = le.time_stretch(y, rate=1)\n",
    "        Mel_spectrogram = librosa.feature.melspectrogram(y=y_stretched , sr=sr)\n",
    "        Mel_spectrogram = resize(np.expand_dims(Mel_spectrogram,axis=-1),target_shape)\n",
    "        Happy_train.append(Mel_spectrogram)\n",
    "        label_happy.append(3)\n",
    "        y_stretched = le.time_stretch(y, rate=1.4)\n",
    "        Mel_spectrogram = librosa.feature.melspectrogram(y=y_stretched , sr=sr)\n",
    "        Mel_spectrogram = resize(np.expand_dims(Mel_spectrogram,axis=-1),target_shape)\n",
    "        Happy_train.append(Mel_spectrogram)\n",
    "        label_happy.append(3)\n",
    "        pbar.update(1)\n",
    "print(\"heeeey4\")\n",
    "\n",
    "##### Neutral testing \n",
    "Neutral_train=[]\n",
    "label_Neutral=[]\n",
    "target_shape=(128,128)\n",
    "with tqdm(total=len(Neutral)) as pbar:\n",
    "    for i in range (len(Neutral)):\n",
    "        y, sr =librosa.load(Neutral[i], sr=None)\n",
    "        y_stretched = le.time_stretch(y, rate=1)\n",
    "        Mel_spectrogram = librosa.feature.melspectrogram(y=y_stretched , sr=sr)\n",
    "        Mel_spectrogram = resize(np.expand_dims(Mel_spectrogram,axis=-1),target_shape)\n",
    "        Neutral_train.append(Mel_spectrogram)\n",
    "        label_Neutral.append(4)\n",
    "        y_stretched = le.time_stretch(y, rate=1)\n",
    "        Mel_spectrogram = librosa.feature.melspectrogram(y=y_stretched , sr=sr)\n",
    "        Mel_spectrogram = resize(np.expand_dims(Mel_spectrogram,axis=-1),target_shape)\n",
    "        Neutral_train.append(Mel_spectrogram)\n",
    "        label_Neutral.append(4)\n",
    "        pbar.update(1)\n",
    "print(\"heeeey5\")\n",
    "\n",
    "##### Sad testing \n",
    "Sad_train=[]\n",
    "label_Sad=[]\n",
    "target_shape=(128,128)\n",
    "with tqdm(total=len(Sad)) as pbar:\n",
    "    for i in range (len(Sad)):\n",
    "        y, sr =librosa.load(Sad[i], sr=None)\n",
    "        y_stretched = le.time_stretch(y, rate=1)\n",
    "        Mel_spectrogram = librosa.feature.melspectrogram(y=y_stretched , sr=sr)\n",
    "        Mel_spectrogram = resize(np.expand_dims(Mel_spectrogram,axis=-1),target_shape)\n",
    "        Sad_train.append(Mel_spectrogram)\n",
    "        label_Sad.append(5)\n",
    "        pbar.update(1)\n",
    "print(\"heeeey6\")"
   ]
  },
  {
   "cell_type": "code",
   "execution_count": null,
   "id": "84d8cdf9",
   "metadata": {
    "execution": {
     "iopub.execute_input": "2023-12-02T01:00:53.756462Z",
     "iopub.status.busy": "2023-12-02T01:00:53.755717Z",
     "iopub.status.idle": "2023-12-02T01:00:53.786391Z",
     "shell.execute_reply": "2023-12-02T01:00:53.785615Z"
    },
    "papermill": {
     "duration": 0.736173,
     "end_time": "2023-12-02T01:00:53.788450",
     "exception": false,
     "start_time": "2023-12-02T01:00:53.052277",
     "status": "completed"
    },
    "tags": []
   },
   "outputs": [],
   "source": [
    "crema=glob(\"/kaggle/input/speech-emotion-recognition-en/Crema/*.wav\")"
   ]
  },
  {
   "cell_type": "code",
   "execution_count": null,
   "id": "5cfe4f49",
   "metadata": {
    "execution": {
     "iopub.execute_input": "2023-12-02T01:00:55.208938Z",
     "iopub.status.busy": "2023-12-02T01:00:55.208562Z",
     "iopub.status.idle": "2023-12-02T01:12:42.438030Z",
     "shell.execute_reply": "2023-12-02T01:12:42.436520Z"
    },
    "papermill": {
     "duration": 709.011116,
     "end_time": "2023-12-02T01:12:43.494761",
     "exception": false,
     "start_time": "2023-12-02T01:00:54.483645",
     "status": "completed"
    },
    "tags": []
   },
   "outputs": [],
   "source": [
    "#SAD - sadness;\n",
    "#ANG - angry;\n",
    "#DIS - disgust;\n",
    "#FEA - fear;\n",
    "#HAP - happy;\n",
    "#NEU - neutral.\n",
    "\n",
    "\n",
    "target_emotion1 = \"ANG\"\n",
    "target_emotion2 = \"SAD\"\n",
    "target_emotion3 = \"DIS\"\n",
    "target_emotion4 = \"FEA\"\n",
    "target_emotion5 = \"HAP\"\n",
    "target_emotion6 = \"NEU\"\n",
    "\n",
    "\n",
    "i=0\n",
    "with tqdm(total=len(crema)) as pbar:\n",
    "    for filename in crema:\n",
    "        if target_emotion1 in filename:\n",
    "            y, sr =librosa.load(crema[i], sr=None)\n",
    "            y_stretched = le.time_stretch(y, rate=1)\n",
    "            Mel_spectrogram = librosa.feature.melspectrogram(y=y_stretched , sr=sr)\n",
    "            Mel_spectrogram = resize(np.expand_dims(Mel_spectrogram,axis=-1),target_shape)\n",
    "            angry_train.append(Mel_spectrogram)\n",
    "            label_angry.append(0)\n",
    "            \n",
    "        elif target_emotion2 in filename:\n",
    "            y, sr =librosa.load(crema[i], sr=None)\n",
    "            y_stretched = le.time_stretch(y, rate=1)\n",
    "            Mel_spectrogram = librosa.feature.melspectrogram(y=y_stretched , sr=sr)\n",
    "            Mel_spectrogram = resize(np.expand_dims(Mel_spectrogram,axis=-1),target_shape)\n",
    "            Sad_train.append(Mel_spectrogram)\n",
    "            label_Sad.append(5)\n",
    "            \n",
    "            \n",
    "        elif target_emotion3 in filename:\n",
    "            y, sr =librosa.load(crema[i], sr=None)\n",
    "            y_stretched = le.time_stretch(y, rate=1)\n",
    "            Mel_spectrogram = librosa.feature.melspectrogram(y=y_stretched , sr=sr)\n",
    "            Mel_spectrogram = resize(np.expand_dims(Mel_spectrogram,axis=-1),target_shape)\n",
    "            Disgusted_train.append(Mel_spectrogram)\n",
    "            label_Disgusted.append(1)           \n",
    "            \n",
    "        elif target_emotion4 in filename:\n",
    "            y, sr =librosa.load(crema[i], sr=None)\n",
    "            y_stretched = le.time_stretch(y, rate=1)\n",
    "            Mel_spectrogram = librosa.feature.melspectrogram(y=y_stretched , sr=sr)\n",
    "            Mel_spectrogram = resize(np.expand_dims(Mel_spectrogram,axis=-1),target_shape)\n",
    "            Fearful_train.append(Mel_spectrogram)\n",
    "            label_Fearful.append(2)            \n",
    "            \n",
    "        elif target_emotion5 in filename:\n",
    "            y, sr =librosa.load(crema[i], sr=None)\n",
    "            y_stretched = le.time_stretch(y, rate=1)\n",
    "            Mel_spectrogram = librosa.feature.melspectrogram(y=y_stretched , sr=sr)\n",
    "            Mel_spectrogram = resize(np.expand_dims(Mel_spectrogram,axis=-1),target_shape)\n",
    "            Happy_train.append(Mel_spectrogram)\n",
    "            label_happy.append(3)            \n",
    "            y_stretched = le.time_stretch(y, rate=1.3)\n",
    "            Mel_spectrogram = librosa.feature.melspectrogram(y=y_stretched , sr=sr)\n",
    "            Mel_spectrogram = resize(np.expand_dims(Mel_spectrogram,axis=-1),target_shape)\n",
    "            Happy_train.append(Mel_spectrogram)\n",
    "            label_happy.append(3)\n",
    "            \n",
    "        elif target_emotion6 in filename:\n",
    "            y, sr =librosa.load(crema[i], sr=None)\n",
    "            y_stretched = le.time_stretch(y, rate=1)\n",
    "            Mel_spectrogram = librosa.feature.melspectrogram(y=y_stretched , sr=sr)\n",
    "            Mel_spectrogram = resize(np.expand_dims(Mel_spectrogram,axis=-1),target_shape)\n",
    "            Neutral_train.append(Mel_spectrogram)\n",
    "            label_Neutral.append(4)            \n",
    "            y_stretched = le.time_stretch(y, rate=1.3)\n",
    "            Mel_spectrogram = librosa.feature.melspectrogram(y=y_stretched , sr=sr)\n",
    "            Mel_spectrogram = resize(np.expand_dims(Mel_spectrogram,axis=-1),target_shape)\n",
    "            Neutral_train.append(Mel_spectrogram)\n",
    "            label_Neutral.append(4)           \n",
    "            \n",
    "            \n",
    "            \n",
    "        pbar.update(1)\n",
    "\n",
    "        i=i+1\n",
    "\n",
    "print(\"done\")"
   ]
  },
  {
   "cell_type": "code",
   "execution_count": null,
   "id": "0ff987e7",
   "metadata": {
    "execution": {
     "iopub.execute_input": "2023-12-02T01:12:45.529276Z",
     "iopub.status.busy": "2023-12-02T01:12:45.528879Z",
     "iopub.status.idle": "2023-12-02T01:12:45.535168Z",
     "shell.execute_reply": "2023-12-02T01:12:45.534394Z"
    },
    "papermill": {
     "duration": 1.057596,
     "end_time": "2023-12-02T01:12:45.537120",
     "exception": false,
     "start_time": "2023-12-02T01:12:44.479524",
     "status": "completed"
    },
    "tags": []
   },
   "outputs": [],
   "source": [
    "savee=glob(\"/kaggle/input/speech-emotion-recognition-en/Savee/*.wav\")"
   ]
  },
  {
   "cell_type": "code",
   "execution_count": null,
   "id": "3401c583",
   "metadata": {
    "execution": {
     "iopub.execute_input": "2023-12-02T01:12:47.639330Z",
     "iopub.status.busy": "2023-12-02T01:12:47.638316Z",
     "iopub.status.idle": "2023-12-02T01:14:18.298697Z",
     "shell.execute_reply": "2023-12-02T01:14:18.292258Z"
    },
    "papermill": {
     "duration": 91.739747,
     "end_time": "2023-12-02T01:14:18.302744",
     "exception": false,
     "start_time": "2023-12-02T01:12:46.562997",
     "status": "completed"
    },
    "tags": []
   },
   "outputs": [],
   "source": [
    "#'a' = 'anger'\n",
    "#'d' = 'disgust'\n",
    "#'f' = 'fear'\n",
    "#'h' = 'happiness'\n",
    "#'n' = 'neutral'\n",
    "#'sa' = 'sadness'\n",
    "\n",
    "\n",
    "\n",
    "#SAD - sadness;\n",
    "#ANG - angry;\n",
    "#DIS - disgust;\n",
    "#FEA - fear;\n",
    "#HAP - happy;\n",
    "#NEU - neutral.\n",
    "\n",
    "\n",
    "target_emotion1 = \"a\"\n",
    "target_emotion2 = \"sa\"\n",
    "target_emotion3 = \"d\"\n",
    "target_emotion4 = \"f\"\n",
    "target_emotion5 = \"h\"\n",
    "target_emotion6 = \"n\"\n",
    "\n",
    "\n",
    "i=0\n",
    "with tqdm(total=len(savee)) as pbar:\n",
    "    for filename in savee:\n",
    "        if target_emotion1 in filename:\n",
    "            y, sr =librosa.load(savee[i], sr=None)\n",
    "            y_stretched = le.time_stretch(y, rate=1)\n",
    "            Mel_spectrogram = librosa.feature.melspectrogram(y=y_stretched , sr=sr)\n",
    "            Mel_spectrogram = resize(np.expand_dims(Mel_spectrogram,axis=-1),target_shape)\n",
    "            angry_train.append(Mel_spectrogram)\n",
    "            label_angry.append(0)\n",
    "            \n",
    "        elif target_emotion2 in filename:\n",
    "            y, sr =librosa.load(savee[i], sr=None)\n",
    "            y_stretched = le.time_stretch(y, rate=1)\n",
    "            Mel_spectrogram = librosa.feature.melspectrogram(y=y_stretched , sr=sr)\n",
    "            Mel_spectrogram = resize(np.expand_dims(Mel_spectrogram,axis=-1),target_shape)\n",
    "            Sad_train.append(Mel_spectrogram)\n",
    "            label_Sad.append(5)\n",
    "            \n",
    "            \n",
    "        elif target_emotion3 in filename:\n",
    "            y, sr =librosa.load(savee[i], sr=None)\n",
    "            y_stretched = le.time_stretch(y, rate=1)\n",
    "            Mel_spectrogram = librosa.feature.melspectrogram(y=y_stretched , sr=sr)\n",
    "            Mel_spectrogram = resize(np.expand_dims(Mel_spectrogram,axis=-1),target_shape)\n",
    "            Disgusted_train.append(Mel_spectrogram)\n",
    "            label_Disgusted.append(1)           \n",
    "            \n",
    "        elif target_emotion4 in filename:\n",
    "            y, sr =librosa.load(savee[i], sr=None)\n",
    "            y_stretched = le.time_stretch(y, rate=1)\n",
    "            Mel_spectrogram = librosa.feature.melspectrogram(y=y_stretched , sr=sr)\n",
    "            Mel_spectrogram = resize(np.expand_dims(Mel_spectrogram,axis=-1),target_shape)\n",
    "            Fearful_train.append(Mel_spectrogram)\n",
    "            label_Fearful.append(2)            \n",
    "            \n",
    "        elif target_emotion5 in filename:\n",
    "            y, sr =librosa.load(savee[i], sr=None)\n",
    "            y_stretched = le.time_stretch(y, rate=1)\n",
    "            Mel_spectrogram = librosa.feature.melspectrogram(y=y_stretched , sr=sr)\n",
    "            Mel_spectrogram = resize(np.expand_dims(Mel_spectrogram,axis=-1),target_shape)\n",
    "            Happy_train.append(Mel_spectrogram)\n",
    "            label_happy.append(3)            \n",
    "            y_stretched = le.time_stretch(y, rate=1.3)\n",
    "            Mel_spectrogram = librosa.feature.melspectrogram(y=y_stretched , sr=sr)\n",
    "            Mel_spectrogram = resize(np.expand_dims(Mel_spectrogram,axis=-1),target_shape)\n",
    "            Happy_train.append(Mel_spectrogram)\n",
    "            label_happy.append(3)\n",
    "            \n",
    "        elif target_emotion6 in filename:\n",
    "            y, sr =librosa.load(savee[i], sr=None)\n",
    "            y_stretched = le.time_stretch(y, rate=1)\n",
    "            Mel_spectrogram = librosa.feature.melspectrogram(y=y_stretched , sr=sr)\n",
    "            Mel_spectrogram = resize(np.expand_dims(Mel_spectrogram,axis=-1),target_shape)\n",
    "            Neutral_train.append(Mel_spectrogram)\n",
    "            label_Neutral.append(4)            \n",
    "            y_stretched = le.time_stretch(y, rate=1.3)\n",
    "            Mel_spectrogram = librosa.feature.melspectrogram(y=y_stretched , sr=sr)\n",
    "            Mel_spectrogram = resize(np.expand_dims(Mel_spectrogram,axis=-1),target_shape)\n",
    "            Neutral_train.append(Mel_spectrogram)\n",
    "            label_Neutral.append(4)           \n",
    "            \n",
    "            \n",
    "            \n",
    "        pbar.update(1)\n",
    "\n",
    "        i=i+1\n",
    "\n",
    "print(\"done!\")"
   ]
  },
  {
   "cell_type": "code",
   "execution_count": null,
   "id": "91739fe2",
   "metadata": {
    "execution": {
     "iopub.execute_input": "2023-12-02T01:14:22.784214Z",
     "iopub.status.busy": "2023-12-02T01:14:22.783814Z",
     "iopub.status.idle": "2023-12-02T01:14:26.318763Z",
     "shell.execute_reply": "2023-12-02T01:14:26.317602Z"
    },
    "papermill": {
     "duration": 4.65969,
     "end_time": "2023-12-02T01:14:26.321266",
     "exception": false,
     "start_time": "2023-12-02T01:14:21.661576",
     "status": "completed"
    },
    "tags": []
   },
   "outputs": [],
   "source": [
    "exp_train=Happy_train+angry_train+Disgusted_train+Fearful_train+Neutral_train+Sad_train\n",
    "exp_label=label_happy+label_angry+label_Disgusted+label_Fearful+label_Neutral+label_Sad\n",
    "\n",
    "for i in range(len(exp_label)):\n",
    "    if exp_label[i]==1 or exp_label[i]==2 or exp_label[i]==5 :\n",
    "        exp_label[i]=0\n",
    "\n",
    "for i in range(len(exp_label)):\n",
    "    if exp_label[i]==4 or exp_label[i]==3:\n",
    "        exp_label[i]=1\n",
    "        \n",
    "np.array(exp_label)\n",
    "np.array(exp_train)\n",
    "\n",
    "combined = list(zip(exp_train,exp_label))\n",
    "random.shuffle(combined)\n",
    "exp_train, exp_label = zip(*combined)\n",
    "\n",
    "print(\"done!\")"
   ]
  },
  {
   "cell_type": "code",
   "execution_count": null,
   "id": "3e455ce9",
   "metadata": {
    "execution": {
     "iopub.execute_input": "2023-12-02T01:14:28.474868Z",
     "iopub.status.busy": "2023-12-02T01:14:28.474414Z",
     "iopub.status.idle": "2023-12-02T01:14:28.634634Z",
     "shell.execute_reply": "2023-12-02T01:14:28.633823Z"
    },
    "papermill": {
     "duration": 1.266774,
     "end_time": "2023-12-02T01:14:28.636999",
     "exception": false,
     "start_time": "2023-12-02T01:14:27.370225",
     "status": "completed"
    },
    "tags": []
   },
   "outputs": [],
   "source": [
    "labels = to_categorical(exp_label, num_classes=2) \n",
    "\n",
    "X_train, X_test, y_train, y_test = train_test_split(exp_train, labels, test_size=0.25, random_state=42)\n",
    "\n",
    "# Neural network model\n",
    "input_shape = X_train[0].shape\n",
    "input_layer = Input(shape=input_shape)\n",
    "x = Conv2D(16, (3, 3), activation='relu')(input_layer)\n",
    "x = MaxPooling2D((2, 2))(x)\n",
    "x = Flatten()(x)\n",
    "x = Dense(32, activation='relu')(x)\n",
    "output_layer = Dense(2, activation='softmax')(x)\n",
    "model = keras.Model(inputs=input_layer, outputs=output_layer)"
   ]
  },
  {
   "cell_type": "code",
   "execution_count": null,
   "id": "2a09aaf3",
   "metadata": {
    "execution": {
     "iopub.execute_input": "2023-12-02T01:14:30.824544Z",
     "iopub.status.busy": "2023-12-02T01:14:30.824187Z",
     "iopub.status.idle": "2023-12-02T01:14:33.057240Z",
     "shell.execute_reply": "2023-12-02T01:14:33.056417Z"
    },
    "papermill": {
     "duration": 3.384265,
     "end_time": "2023-12-02T01:14:33.059585",
     "exception": false,
     "start_time": "2023-12-02T01:14:29.675320",
     "status": "completed"
    },
    "tags": []
   },
   "outputs": [],
   "source": [
    "model.compile(optimizer=Adam(learning_rate=0.001), loss='binary_crossentropy', metrics=['accuracy'])\n",
    "X_train = tf.stack(X_train)\n",
    "y_train = tf.stack(y_train)\n",
    "X_test = tf.stack(X_test)\n",
    "y_test = tf.stack(y_test)"
   ]
  },
  {
   "cell_type": "code",
   "execution_count": null,
   "id": "5763f578",
   "metadata": {
    "execution": {
     "iopub.execute_input": "2023-12-02T01:14:35.367840Z",
     "iopub.status.busy": "2023-12-02T01:14:35.366937Z",
     "iopub.status.idle": "2023-12-02T01:15:33.911415Z",
     "shell.execute_reply": "2023-12-02T01:15:33.910389Z"
    },
    "papermill": {
     "duration": 59.730236,
     "end_time": "2023-12-02T01:15:33.913644",
     "exception": false,
     "start_time": "2023-12-02T01:14:34.183408",
     "status": "completed"
    },
    "tags": []
   },
   "outputs": [],
   "source": [
    "model.fit(X_train, y_train, epochs=10, batch_size=32, validation_data=(X_test, y_test))\n",
    "test_accuracy=model.evaluate(X_test,y_test,verbose=0)\n",
    "\n",
    "print(\"\\n Accuracy= \",test_accuracy[1])"
   ]
  },
  {
   "cell_type": "code",
   "execution_count": null,
   "id": "4e45395e",
   "metadata": {
    "execution": {
     "iopub.execute_input": "2023-12-02T01:15:36.194479Z",
     "iopub.status.busy": "2023-12-02T01:15:36.194060Z",
     "iopub.status.idle": "2023-12-02T01:15:36.271836Z",
     "shell.execute_reply": "2023-12-02T01:15:36.271029Z"
    },
    "papermill": {
     "duration": 1.251846,
     "end_time": "2023-12-02T01:15:36.273997",
     "exception": false,
     "start_time": "2023-12-02T01:15:35.022151",
     "status": "completed"
    },
    "tags": []
   },
   "outputs": [],
   "source": [
    "\n",
    "# Save the model\n",
    "model.save('model1.h5')"
   ]
  },
  {
   "cell_type": "code",
   "execution_count": null,
   "id": "15e7e854",
   "metadata": {
    "execution": {
     "iopub.execute_input": "2023-12-02T01:15:41.090027Z",
     "iopub.status.busy": "2023-12-02T01:15:41.089636Z",
     "iopub.status.idle": "2023-12-02T01:15:41.452550Z",
     "shell.execute_reply": "2023-12-02T01:15:41.451194Z"
    },
    "papermill": {
     "duration": 1.540015,
     "end_time": "2023-12-02T01:15:41.455192",
     "exception": false,
     "start_time": "2023-12-02T01:15:39.915177",
     "status": "completed"
    },
    "tags": []
   },
   "outputs": [],
   "source": [
    "# Negative \n",
    "exp_train_2=angry_train+Disgusted_train+Fearful_train+Sad_train\n",
    "exp_label_2=label_angry+label_Disgusted+label_Fearful+label_Sad\n",
    "\n",
    "for i in range(len(exp_label_2)):\n",
    "    if exp_label_2[i]==5 :\n",
    "        exp_label_2[i]=3\n",
    "        \n",
    "np.array(exp_label_2)\n",
    "np.array(exp_train_2)\n",
    "\n",
    "\n",
    "combined = list(zip(exp_train_2,exp_label_2))\n",
    "random.shuffle(combined)\n",
    "exp_train_2, exp_label_2 = zip(*combined)\n",
    "\n",
    "print(\"done!\")"
   ]
  },
  {
   "cell_type": "code",
   "execution_count": null,
   "id": "4347f6db",
   "metadata": {
    "execution": {
     "iopub.execute_input": "2023-12-02T01:15:43.780636Z",
     "iopub.status.busy": "2023-12-02T01:15:43.780272Z",
     "iopub.status.idle": "2023-12-02T01:15:44.714469Z",
     "shell.execute_reply": "2023-12-02T01:15:44.713549Z"
    },
    "papermill": {
     "duration": 2.10223,
     "end_time": "2023-12-02T01:15:44.716911",
     "exception": false,
     "start_time": "2023-12-02T01:15:42.614681",
     "status": "completed"
    },
    "tags": []
   },
   "outputs": [],
   "source": [
    "labels_2 = to_categorical(exp_label_2, num_classes=4) \n",
    "\n",
    "X_train, X_test, y_train, y_test = train_test_split(exp_train_2, labels_2, test_size=0.25, random_state=42)\n",
    "\n",
    "# Neural network model\n",
    "input_shape = X_train[0].shape\n",
    "input_layer = Input(shape=input_shape)\n",
    "x = Conv2D(16, (3, 3), activation='relu')(input_layer)\n",
    "x = MaxPooling2D((2, 2))(x)\n",
    "x = Flatten()(x)\n",
    "x = Dense(32, activation='relu')(x)\n",
    "output_layer = Dense(4, activation='softmax')(x)\n",
    "model2 = keras.Model(inputs=input_layer, outputs=output_layer)\n",
    "\n",
    "model2.compile(optimizer=Adam(learning_rate=0.001), loss='categorical_crossentropy', metrics=['accuracy'])\n",
    "X_train = tf.stack(X_train)\n",
    "y_train = tf.stack(y_train)\n",
    "X_test = tf.stack(X_test)\n",
    "y_test = tf.stack(y_test)"
   ]
  },
  {
   "cell_type": "code",
   "execution_count": null,
   "id": "833636ab",
   "metadata": {
    "execution": {
     "iopub.execute_input": "2023-12-02T01:15:46.956500Z",
     "iopub.status.busy": "2023-12-02T01:15:46.956113Z",
     "iopub.status.idle": "2023-12-02T01:16:04.358735Z",
     "shell.execute_reply": "2023-12-02T01:16:04.357621Z"
    },
    "papermill": {
     "duration": 18.561788,
     "end_time": "2023-12-02T01:16:04.360936",
     "exception": false,
     "start_time": "2023-12-02T01:15:45.799148",
     "status": "completed"
    },
    "tags": []
   },
   "outputs": [],
   "source": [
    "model2.fit(X_train, y_train, epochs=7, batch_size=35, validation_data=(X_test, y_test))\n",
    "test_accuracy=model2.evaluate(X_test,y_test,verbose=0)\n",
    "\n",
    "print(\"\\n Accuracy= \",test_accuracy[1])"
   ]
  },
  {
   "cell_type": "code",
   "execution_count": null,
   "id": "b9531719",
   "metadata": {
    "execution": {
     "iopub.execute_input": "2023-12-02T01:16:06.741059Z",
     "iopub.status.busy": "2023-12-02T01:16:06.740331Z",
     "iopub.status.idle": "2023-12-02T01:16:06.794173Z",
     "shell.execute_reply": "2023-12-02T01:16:06.793355Z"
    },
    "papermill": {
     "duration": 1.274572,
     "end_time": "2023-12-02T01:16:06.796590",
     "exception": false,
     "start_time": "2023-12-02T01:16:05.522018",
     "status": "completed"
    },
    "tags": []
   },
   "outputs": [],
   "source": [
    "\n",
    "# Save the model\n",
    "model2.save('model2.h5')"
   ]
  },
  {
   "cell_type": "code",
   "execution_count": null,
   "id": "215b7ca3",
   "metadata": {
    "execution": {
     "iopub.execute_input": "2023-12-02T01:16:11.582057Z",
     "iopub.status.busy": "2023-12-02T01:16:11.581543Z",
     "iopub.status.idle": "2023-12-02T01:16:11.922558Z",
     "shell.execute_reply": "2023-12-02T01:16:11.921557Z"
    },
    "papermill": {
     "duration": 1.601184,
     "end_time": "2023-12-02T01:16:11.924903",
     "exception": false,
     "start_time": "2023-12-02T01:16:10.323719",
     "status": "completed"
    },
    "tags": []
   },
   "outputs": [],
   "source": [
    "# Positive\n",
    "exp_train_3=Happy_train+Neutral_train\n",
    "exp_label_3=label_happy+label_Neutral\n",
    "\n",
    "for i in range(len(exp_label_3)):\n",
    "    if exp_label_3[i]==3 :\n",
    "        exp_label_3[i]=0\n",
    "    elif exp_label_3[i]==4:\n",
    "        exp_label_3[i]=1\n",
    "        \n",
    "np.array(exp_label_3)\n",
    "np.array(exp_train_3)\n",
    "\n",
    "combined = list(zip(exp_train_3,exp_label_3))\n",
    "random.shuffle(combined)\n",
    "exp_train_3, exp_label_3 = zip(*combined)\n",
    "\n",
    "print(\"done!\")"
   ]
  },
  {
   "cell_type": "code",
   "execution_count": null,
   "id": "da1f4c0b",
   "metadata": {
    "execution": {
     "iopub.execute_input": "2023-12-02T01:16:14.307431Z",
     "iopub.status.busy": "2023-12-02T01:16:14.306637Z",
     "iopub.status.idle": "2023-12-02T01:16:15.149263Z",
     "shell.execute_reply": "2023-12-02T01:16:15.148319Z"
    },
    "papermill": {
     "duration": 2.075236,
     "end_time": "2023-12-02T01:16:15.151893",
     "exception": false,
     "start_time": "2023-12-02T01:16:13.076657",
     "status": "completed"
    },
    "tags": []
   },
   "outputs": [],
   "source": [
    "labels_3 = to_categorical(exp_label_3, num_classes=2) \n",
    "\n",
    "X_train, X_test, y_train, y_test = train_test_split(exp_train_3, labels_3, test_size=0.25, random_state=42)\n",
    "\n",
    "# Neural network model\n",
    "input_shape = X_train[0].shape\n",
    "input_layer = Input(shape=input_shape)\n",
    "x = Conv2D(16, (3, 3), activation='relu')(input_layer)\n",
    "x = MaxPooling2D((2, 2))(x)\n",
    "x = Flatten()(x)\n",
    "x = Dense(32, activation='relu')(x)\n",
    "output_layer = Dense(2, activation='softmax')(x)\n",
    "model3 = keras.Model(inputs=input_layer, outputs=output_layer)\n",
    "\n",
    "model3.compile(optimizer=Adam(learning_rate=0.001), loss='binary_crossentropy', metrics=['accuracy'])\n",
    "X_train = tf.stack(X_train)\n",
    "y_train = tf.stack(y_train)\n",
    "X_test = tf.stack(X_test)\n",
    "y_test = tf.stack(y_test)"
   ]
  },
  {
   "cell_type": "code",
   "execution_count": null,
   "id": "d74f2a8f",
   "metadata": {
    "execution": {
     "iopub.execute_input": "2023-12-02T01:16:17.546775Z",
     "iopub.status.busy": "2023-12-02T01:16:17.546123Z",
     "iopub.status.idle": "2023-12-02T01:16:42.318294Z",
     "shell.execute_reply": "2023-12-02T01:16:42.316909Z"
    },
    "papermill": {
     "duration": 26.00282,
     "end_time": "2023-12-02T01:16:42.320833",
     "exception": false,
     "start_time": "2023-12-02T01:16:16.318013",
     "status": "completed"
    },
    "tags": []
   },
   "outputs": [],
   "source": [
    "model3.fit(X_train, y_train, epochs=10, batch_size=25, validation_data=(X_test, y_test))\n",
    "test_accuracy=model3.evaluate(X_test,y_test,verbose=0)\n",
    "\n",
    "print(\"\\n Accuracy= \",test_accuracy[1])"
   ]
  },
  {
   "cell_type": "code",
   "execution_count": null,
   "id": "62b0fda6",
   "metadata": {
    "execution": {
     "iopub.execute_input": "2023-12-02T01:16:44.594684Z",
     "iopub.status.busy": "2023-12-02T01:16:44.593775Z",
     "iopub.status.idle": "2023-12-02T01:16:44.653980Z",
     "shell.execute_reply": "2023-12-02T01:16:44.653054Z"
    },
    "papermill": {
     "duration": 1.192283,
     "end_time": "2023-12-02T01:16:44.656332",
     "exception": false,
     "start_time": "2023-12-02T01:16:43.464049",
     "status": "completed"
    },
    "tags": []
   },
   "outputs": [],
   "source": [
    "\n",
    "# Save the model\n",
    "model3.save('model3.h5')"
   ]
  },
  {
   "cell_type": "code",
   "execution_count": null,
   "id": "bad4a40e",
   "metadata": {
    "execution": {
     "iopub.execute_input": "2023-12-02T01:16:49.390635Z",
     "iopub.status.busy": "2023-12-02T01:16:49.389731Z",
     "iopub.status.idle": "2023-12-02T01:16:49.636379Z",
     "shell.execute_reply": "2023-12-02T01:16:49.635228Z"
    },
    "papermill": {
     "duration": 1.445503,
     "end_time": "2023-12-02T01:16:49.638762",
     "exception": false,
     "start_time": "2023-12-02T01:16:48.193259",
     "status": "completed"
    },
    "tags": []
   },
   "outputs": [],
   "source": [
    "# Between sad and nuetral\n",
    "exp_train_4=Neutral_train+Sad_train\n",
    "exp_label_4=label_Neutral+label_Sad\n",
    "\n",
    "for i in range(len(exp_label_4)):\n",
    "    if exp_label_4[i]==5 :\n",
    "        exp_label_4[i]=0\n",
    "    elif exp_label_4[i]==4:\n",
    "        exp_label_4[i]=1\n",
    "        \n",
    "np.array(exp_label_4)\n",
    "np.array(exp_train_4)\n",
    "\n",
    "combined = list(zip(exp_train_4,exp_label_4))\n",
    "random.shuffle(combined)\n",
    "exp_train_4, exp_label_4 = zip(*combined)\n",
    "\n",
    "print(\"done!\")"
   ]
  },
  {
   "cell_type": "code",
   "execution_count": null,
   "id": "e1eacb0d",
   "metadata": {
    "execution": {
     "iopub.execute_input": "2023-12-02T01:16:52.021688Z",
     "iopub.status.busy": "2023-12-02T01:16:52.021297Z",
     "iopub.status.idle": "2023-12-02T01:16:52.615168Z",
     "shell.execute_reply": "2023-12-02T01:16:52.614289Z"
    },
    "papermill": {
     "duration": 1.792755,
     "end_time": "2023-12-02T01:16:52.617375",
     "exception": false,
     "start_time": "2023-12-02T01:16:50.824620",
     "status": "completed"
    },
    "tags": []
   },
   "outputs": [],
   "source": [
    "labels_4 = to_categorical(exp_label_4, num_classes=2) \n",
    "\n",
    "X_train, X_test, y_train, y_test = train_test_split(exp_train_4, labels_4, test_size=0.25, random_state=42)\n",
    "\n",
    "# Neural network model\n",
    "input_shape = X_train[0].shape\n",
    "input_layer = Input(shape=input_shape)\n",
    "x = Conv2D(16, (3, 3), activation='relu')(input_layer)\n",
    "x = MaxPooling2D((2, 2))(x)\n",
    "x = Flatten()(x)\n",
    "x = Dense(32, activation='relu')(x)\n",
    "output_layer = Dense(2, activation='softmax')(x)\n",
    "model4 = keras.Model(inputs=input_layer, outputs=output_layer)\n",
    "\n",
    "model4.compile(optimizer=Adam(learning_rate=0.001), loss='binary_crossentropy', metrics=['accuracy'])\n",
    "X_train = tf.stack(X_train)\n",
    "y_train = tf.stack(y_train)\n",
    "X_test = tf.stack(X_test)\n",
    "y_test = tf.stack(y_test)"
   ]
  },
  {
   "cell_type": "code",
   "execution_count": null,
   "id": "6ffc457e",
   "metadata": {
    "execution": {
     "iopub.execute_input": "2023-12-02T01:16:54.979863Z",
     "iopub.status.busy": "2023-12-02T01:16:54.979524Z",
     "iopub.status.idle": "2023-12-02T01:17:13.591620Z",
     "shell.execute_reply": "2023-12-02T01:17:13.589968Z"
    },
    "papermill": {
     "duration": 19.841109,
     "end_time": "2023-12-02T01:17:13.594665",
     "exception": false,
     "start_time": "2023-12-02T01:16:53.753556",
     "status": "completed"
    },
    "tags": []
   },
   "outputs": [],
   "source": [
    "model4.fit(X_train, y_train, epochs=10, batch_size=25, validation_data=(X_test, y_test))\n",
    "test_accuracy=model4.evaluate(X_test,y_test,verbose=0)\n",
    "\n",
    "print(\"\\n Accuracy= \",test_accuracy[1])"
   ]
  },
  {
   "cell_type": "code",
   "execution_count": null,
   "id": "20c24e02",
   "metadata": {
    "execution": {
     "iopub.execute_input": "2023-12-02T01:17:16.169460Z",
     "iopub.status.busy": "2023-12-02T01:17:16.169010Z",
     "iopub.status.idle": "2023-12-02T01:17:16.228299Z",
     "shell.execute_reply": "2023-12-02T01:17:16.227326Z"
    },
    "papermill": {
     "duration": 1.288774,
     "end_time": "2023-12-02T01:17:16.230619",
     "exception": false,
     "start_time": "2023-12-02T01:17:14.941845",
     "status": "completed"
    },
    "tags": []
   },
   "outputs": [],
   "source": [
    "\n",
    "# Save the model\n",
    "model4.save('model4.h5')"
   ]
  },
  {
   "cell_type": "code",
   "execution_count": null,
   "id": "bfb8d4b1",
   "metadata": {
    "execution": {
     "iopub.execute_input": "2023-12-02T01:17:21.476622Z",
     "iopub.status.busy": "2023-12-02T01:17:21.476221Z",
     "iopub.status.idle": "2023-12-02T01:17:22.230034Z",
     "shell.execute_reply": "2023-12-02T01:17:22.228817Z"
    },
    "papermill": {
     "duration": 2.107524,
     "end_time": "2023-12-02T01:17:22.232609",
     "exception": false,
     "start_time": "2023-12-02T01:17:20.125085",
     "status": "completed"
    },
    "tags": []
   },
   "outputs": [],
   "source": [
    "# Between happy and angry\n",
    "exp_train_5=Happy_train+angry_train\n",
    "exp_label_5=label_happy+label_angry\n",
    "\n",
    "for i in range(len(exp_label_5)):\n",
    "    if exp_label_5[i]==3 :\n",
    "        exp_label_5[i]=1\n",
    "        \n",
    "np.array(exp_label_5)\n",
    "np.array(exp_train_5)\n",
    "\n",
    "combined = list(zip(exp_train_5,exp_label_5))\n",
    "random.shuffle(combined)\n",
    "exp_train_5, exp_label_5 = zip(*combined)\n",
    "\n",
    "print(\"done!\")"
   ]
  },
  {
   "cell_type": "code",
   "execution_count": null,
   "id": "7b567d78",
   "metadata": {
    "execution": {
     "iopub.execute_input": "2023-12-02T01:17:24.816823Z",
     "iopub.status.busy": "2023-12-02T01:17:24.816454Z",
     "iopub.status.idle": "2023-12-02T01:17:25.604466Z",
     "shell.execute_reply": "2023-12-02T01:17:25.603192Z"
    },
    "papermill": {
     "duration": 2.114986,
     "end_time": "2023-12-02T01:17:25.607054",
     "exception": false,
     "start_time": "2023-12-02T01:17:23.492068",
     "status": "completed"
    },
    "tags": []
   },
   "outputs": [],
   "source": [
    "labels_5 = to_categorical(exp_label_5, num_classes=2) \n",
    "\n",
    "X_train, X_test, y_train, y_test = train_test_split(exp_train_5, labels_5, test_size=0.25, random_state=42)\n",
    "\n",
    "# Neural network model\n",
    "input_shape = X_train[0].shape\n",
    "input_layer = Input(shape=input_shape)\n",
    "x = Conv2D(16, (3, 3), activation='relu')(input_layer)\n",
    "x = MaxPooling2D((2, 2))(x)\n",
    "x = Flatten()(x)\n",
    "x = Dense(32, activation='relu')(x)\n",
    "output_layer = Dense(2, activation='softmax')(x)\n",
    "model5 = keras.Model(inputs=input_layer, outputs=output_layer)\n",
    "\n",
    "model5.compile(optimizer=Adam(learning_rate=0.001), loss='binary_crossentropy', metrics=['accuracy'])\n",
    "X_train = tf.stack(X_train)\n",
    "y_train = tf.stack(y_train)\n",
    "X_test = tf.stack(X_test)\n",
    "y_test = tf.stack(y_test)"
   ]
  },
  {
   "cell_type": "code",
   "execution_count": null,
   "id": "cb3a0c09",
   "metadata": {
    "execution": {
     "iopub.execute_input": "2023-12-02T01:17:28.062140Z",
     "iopub.status.busy": "2023-12-02T01:17:28.061298Z",
     "iopub.status.idle": "2023-12-02T01:17:49.729218Z",
     "shell.execute_reply": "2023-12-02T01:17:49.728015Z"
    },
    "papermill": {
     "duration": 22.915288,
     "end_time": "2023-12-02T01:17:49.731657",
     "exception": false,
     "start_time": "2023-12-02T01:17:26.816369",
     "status": "completed"
    },
    "tags": []
   },
   "outputs": [],
   "source": [
    "model5.fit(X_train, y_train, epochs=10, batch_size=25, validation_data=(X_test, y_test))\n",
    "test_accuracy=model5.evaluate(X_test,y_test,verbose=0)\n",
    "\n",
    "print(\"\\n Accuracy= \",test_accuracy[1])"
   ]
  },
  {
   "cell_type": "code",
   "execution_count": null,
   "id": "a758ac40",
   "metadata": {
    "execution": {
     "iopub.execute_input": "2023-12-02T01:17:52.483148Z",
     "iopub.status.busy": "2023-12-02T01:17:52.482701Z",
     "iopub.status.idle": "2023-12-02T01:17:52.536547Z",
     "shell.execute_reply": "2023-12-02T01:17:52.535761Z"
    },
    "papermill": {
     "duration": 1.385924,
     "end_time": "2023-12-02T01:17:52.538673",
     "exception": false,
     "start_time": "2023-12-02T01:17:51.152749",
     "status": "completed"
    },
    "tags": []
   },
   "outputs": [],
   "source": [
    "\n",
    "# Save the model\n",
    "model5.save('model5.h5')"
   ]
  }
 ],
 "metadata": {
  "kaggle": {
   "accelerator": "nvidiaTeslaT4",
   "dataSources": [
    {
     "datasetId": 107666,
     "sourceId": 256774,
     "sourceType": "datasetVersion"
    },
    {
     "datasetId": 703366,
     "sourceId": 1229041,
     "sourceType": "datasetVersion"
    },
    {
     "datasetId": 1118008,
     "sourceId": 1877714,
     "sourceType": "datasetVersion"
    },
    {
     "datasetId": 1518369,
     "sourceId": 2507135,
     "sourceType": "datasetVersion"
    },
    {
     "datasetId": 3894648,
     "sourceId": 6767429,
     "sourceType": "datasetVersion"
    }
   ],
   "dockerImageVersionId": 30559,
   "isGpuEnabled": true,
   "isInternetEnabled": true,
   "language": "python",
   "sourceType": "notebook"
  },
  "kernelspec": {
   "display_name": "Python 3",
   "language": "python",
   "name": "python3"
  },
  "language_info": {
   "codemirror_mode": {
    "name": "ipython",
    "version": 3
   },
   "file_extension": ".py",
   "mimetype": "text/x-python",
   "name": "python",
   "nbconvert_exporter": "python",
   "pygments_lexer": "ipython3",
   "version": "3.8.18"
  },
  "papermill": {
   "default_parameters": {},
   "duration": 3009.707661,
   "end_time": "2023-12-02T01:23:44.489814",
   "environment_variables": {},
   "exception": null,
   "input_path": "__notebook__.ipynb",
   "output_path": "__notebook__.ipynb",
   "parameters": {},
   "start_time": "2023-12-02T00:33:34.782153",
   "version": "2.4.0"
  }
 },
 "nbformat": 4,
 "nbformat_minor": 5
}
